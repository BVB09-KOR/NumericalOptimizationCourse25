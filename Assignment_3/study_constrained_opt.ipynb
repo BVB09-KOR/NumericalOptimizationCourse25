{
 "cells": [
  {
   "cell_type": "code",
   "execution_count": 1,
   "id": "0a942849",
   "metadata": {},
   "outputs": [],
   "source": [
    "all = [var for var in globals() if var[0] != '_']\n",
    "for var in all:\n",
    "    del globals()[var]"
   ]
  },
  {
   "cell_type": "code",
   "execution_count": 2,
   "id": "2a8977e7",
   "metadata": {},
   "outputs": [],
   "source": [
    "import numpy as np\n",
    "import matplotlib.pyplot as plt\n",
    "import os, sys\n",
    "sys.path.append(\"../Assignment_2\")\n",
    "from module_opt import *"
   ]
  },
  {
   "cell_type": "code",
   "execution_count": 77,
   "id": "d7aeeb66",
   "metadata": {},
   "outputs": [],
   "source": [
    "f = lambda x : -5*x[0]**2 + x[1]**2\n",
    "c = lambda x : x[0] - 1\n",
    "mu = 1000\n",
    "Q = lambda x : f(x) + 0.5*mu*(c(x))**2"
   ]
  },
  {
   "cell_type": "code",
   "execution_count": 78,
   "id": "fac4e605",
   "metadata": {},
   "outputs": [
    {
     "data": {
      "text/plain": [
       "(array([[-2. , -1.9, -1.8, ...,  1.8,  1.9,  2. ],\n",
       "        [-2. , -1.9, -1.8, ...,  1.8,  1.9,  2. ],\n",
       "        [-2. , -1.9, -1.8, ...,  1.8,  1.9,  2. ],\n",
       "        ...,\n",
       "        [-2. , -1.9, -1.8, ...,  1.8,  1.9,  2. ],\n",
       "        [-2. , -1.9, -1.8, ...,  1.8,  1.9,  2. ],\n",
       "        [-2. , -1.9, -1.8, ...,  1.8,  1.9,  2. ]], shape=(41, 41)),\n",
       " array([[-2. , -2. , -2. , ..., -2. , -2. , -2. ],\n",
       "        [-1.9, -1.9, -1.9, ..., -1.9, -1.9, -1.9],\n",
       "        [-1.8, -1.8, -1.8, ..., -1.8, -1.8, -1.8],\n",
       "        ...,\n",
       "        [ 1.8,  1.8,  1.8, ...,  1.8,  1.8,  1.8],\n",
       "        [ 1.9,  1.9,  1.9, ...,  1.9,  1.9,  1.9],\n",
       "        [ 2. ,  2. ,  2. , ...,  2. ,  2. ,  2. ]], shape=(41, 41)))"
      ]
     },
     "execution_count": 78,
     "metadata": {},
     "output_type": "execute_result"
    }
   ],
   "source": [
    "grid = np.meshgrid(np.arange(-2, 2+.1, .1), np.arange(-2, 2+.1, .1))\n",
    "grid"
   ]
  },
  {
   "cell_type": "code",
   "execution_count": 79,
   "id": "f3fc5461",
   "metadata": {},
   "outputs": [
    {
     "data": {
      "text/plain": [
       "<matplotlib.contour.QuadContourSet at 0x7aa5788d3d90>"
      ]
     },
     "execution_count": 79,
     "metadata": {},
     "output_type": "execute_result"
    },
    {
     "data": {
      "image/png": "[encoded data removed]",
      "text/plain": [
       "<Figure size 400x400 with 1 Axes>"
      ]
     },
     "metadata": {},
     "output_type": "display_data"
    }
   ],
   "source": [
    "fig, ax = plt.subplots(1, 1, figsize=(4, 4))\n",
    "ax.contourf(grid[0], grid[1], Q(grid), levels=30)"
   ]
  },
  {
   "cell_type": "code",
   "execution_count": 80,
   "id": "56630ea2",
   "metadata": {},
   "outputs": [
    {
     "name": "stdout",
     "output_type": "stream",
     "text": [
      "Since |grad(x0)| = 10.198039027261089 > 1e-09, x0 : [1 1] is not an optimum point. Optimization begins !\n",
      "x_1 : [1.0194645 0.9961071]\n",
      "f_1 : -4.014876618680897\n",
      "norm(grad(x_1)) : 9.481512981741089\n",
      "recent alpha : 0.0019464497782087301\n",
      "recent p : [10. -2.]\n",
      "\n",
      "x_2 : [ 1.01470661 -0.01077278]\n",
      "f_2 : -5.039889259245082\n",
      "norm(grad(x_2)) : 4.559599347439978\n",
      "recent alpha : 0.485554428605685\n",
      "recent p : [-0.00979887 -2.07367048]\n",
      "\n",
      "x_3 : [1.01005555e+00 1.06344511e-04]\n",
      "f_3 : -5.050504016011141\n",
      "norm(grad(x_3)) : 0.045010565636706364\n",
      "recent alpha : 1\n",
      "recent p : [-0.00465107  0.01087913]\n",
      "\n",
      "x_4 : [1.01010101e+00 2.06811213e-11]\n",
      "f_4 : -5.050505050505051\n",
      "norm(grad(x_4)) : 4.3964831775171104e-10\n",
      "recent alpha : 1\n",
      "recent p : [ 4.54647102e-05 -1.06344491e-04]\n",
      "\n",
      "Optimization converges -> Iteration : 4 / x* : [1.01010101e+00 2.06811213e-11] / f(x*) : -5.050505050505051 / norm(grad(x*)) : 4.3964831775171104e-10 \n"
     ]
    },
    {
     "data": {
      "text/plain": [
       "([array([1, 1]),\n",
       "  array([1.0194645, 0.9961071]),\n",
       "  array([ 1.01470661, -0.01077278]),\n",
       "  array([1.01005555e+00, 1.06344511e-04]),\n",
       "  array([1.01010101e+00, 2.06811213e-11])],\n",
       " [np.float64(-4.0),\n",
       "  np.float64(-4.014876618680897),\n",
       "  np.float64(-5.039889259245082),\n",
       "  np.float64(-5.050504016011141),\n",
       "  np.float64(-5.050505050505051)],\n",
       " [array([-10.,   2.]),\n",
       "  array([9.2698528, 1.9922142]),\n",
       "  array([ 4.55954844, -0.02154557]),\n",
       "  array([-0.04501006,  0.00021269]),\n",
       "  array([-4.39648318e-10,  0.00000000e+00])])"
      ]
     },
     "execution_count": 80,
     "metadata": {},
     "output_type": "execute_result"
    }
   ],
   "source": [
    "# stp_descent(f=Q, x0=np.array([0, 0]), tol=1e-6)\n",
    "quasi_newton_bfgs(f=Q, x0=np.array([1, 1]), tol=1e-9)"
   ]
  },
  {
   "cell_type": "code",
   "execution_count": 42,
   "id": "136b8e3b",
   "metadata": {},
   "outputs": [
    {
     "data": {
      "text/plain": [
       "1.8086085518120854e-08"
      ]
     },
     "execution_count": 42,
     "metadata": {},
     "output_type": "execute_result"
    }
   ],
   "source": [
    "1 + 2*(-1.10715987)*((-1.10715987)**2 + (-1.10715987)**2 - 2)"
   ]
  }
 ],
 "metadata": {
  "kernelspec": {
   "display_name": "general_purpose",
   "language": "python",
   "name": "python3"
  },
  "language_info": {
   "codemirror_mode": {
    "name": "ipython",
    "version": 3
   },
   "file_extension": ".py",
   "mimetype": "text/x-python",
   "name": "python",
   "nbconvert_exporter": "python",
   "pygments_lexer": "ipython3",
   "version": "3.13.7"
  }
 },
 "nbformat": 4,
 "nbformat_minor": 5
}
